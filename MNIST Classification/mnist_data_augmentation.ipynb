{
 "cells": [
  {
   "cell_type": "markdown",
   "metadata": {},
   "source": [
    "## Introduction\n",
    "\n",
    "In this project we'll look at improving the accuracy of a K-nearest neighbor model by augmenting the training dataset. The dataset we will be using is the MNIST database of handwritten digits. We will be classifying each digit (a possible 0 through 9) using a K-nearest neighbor model.\n",
    "\n",
    "We will be augmenting the dataset by shifting the images in the training set in 4 directions (up, down, left and right) by a defined number of pixels to artifically inflate the training dataset, with the hope of improving accuracy."
   ]
  },
  {
   "cell_type": "markdown",
   "metadata": {},
   "source": [
    "## Imports"
   ]
  },
  {
   "cell_type": "code",
   "execution_count": 151,
   "metadata": {},
   "outputs": [],
   "source": [
    "import numpy as np\n",
    "import matplotlib.pylab as plt\n",
    "from sklearn.datasets import fetch_openml\n",
    "from sklearn.model_selection import train_test_split\n",
    "from sklearn.neighbors import KNeighborsClassifier\n",
    "from sklearn.model_selection import GridSearchCV"
   ]
  },
  {
   "cell_type": "code",
   "execution_count": 152,
   "metadata": {},
   "outputs": [],
   "source": [
    "# Fetch dataset\n",
    "mnist = fetch_openml('mnist_784', as_frame=False)\n",
    "# Assign data and labels\n",
    "X, y = mnist.data, mnist.target"
   ]
  },
  {
   "cell_type": "markdown",
   "metadata": {},
   "source": [
    "## Crate Train/Test Split\n",
    "Using an 80/20 train/test split."
   ]
  },
  {
   "cell_type": "code",
   "execution_count": 153,
   "metadata": {},
   "outputs": [],
   "source": [
    "X_train, X_test, y_train, y_test = train_test_split(X, y, test_size=0.2, random_state=42)"
   ]
  },
  {
   "cell_type": "markdown",
   "metadata": {},
   "source": [
    "## Data Augmentation\n",
    "We will create a function to shift each image by a given number of pixels in in any of 4 directions: up, down, left and right."
   ]
  },
  {
   "cell_type": "markdown",
   "metadata": {},
   "source": [
    "### Shift Function"
   ]
  },
  {
   "cell_type": "code",
   "execution_count": 154,
   "metadata": {},
   "outputs": [],
   "source": [
    "def shift_image(img_data, shift_px):\n",
    "    # Reshape img data\n",
    "    img_data = img_data.reshape(28,28)\n",
    "\n",
    "    # Shift up image using np.roll\n",
    "    up = np.roll(img_data, axis=0,shift=-shift_px)\n",
    "    # Modiy shifted rows to 0\n",
    "    up[28-shift_px:,:] = 0\n",
    "    up = up.flatten()\n",
    "\n",
    "    # Shift down image using np.roll\n",
    "    down = np.roll(img_data, axis=0,shift=shift_px)\n",
    "    # Modiy shifted rows to 0\n",
    "    down[:shift_px,:] = 0\n",
    "    down = down.flatten()\n",
    "\n",
    "    # Shift left image using np.roll\n",
    "    left = np.roll(img_data, axis=1,shift=-shift_px)\n",
    "    # Modiy shifted rows to 0\n",
    "    left[:,28-shift_px:] = 0\n",
    "    left = left.flatten()\n",
    "\n",
    "    # Shift right image using np.roll\n",
    "    right = np.roll(img_data, axis=1,shift=shift_px)\n",
    "    # Modiy shifted rows to 0\n",
    "    right[:,:shift_px] = 0\n",
    "    right = right.flatten()\n",
    "\n",
    "    # Return to flat array\n",
    "    return up, down, left, right"
   ]
  },
  {
   "cell_type": "markdown",
   "metadata": {},
   "source": [
    "### Testing Shift Function\n",
    "We will select a random image from the training set an visualise the shifted images returned by the shift function above."
   ]
  },
  {
   "cell_type": "code",
   "execution_count": 155,
   "metadata": {},
   "outputs": [],
   "source": [
    "# Select a random image index from test \n",
    "img_index = 24\n",
    "# Get image data for index value\n",
    "img_data = X[img_index]\n",
    "# Call shift funtion with shift of 5px\n",
    "up, down, left, right = shift_image(img_data, 5)"
   ]
  },
  {
   "cell_type": "code",
   "execution_count": 156,
   "metadata": {},
   "outputs": [
    {
     "data": {
      "image/png": "[encoded data removed]",
      "text/plain": [
       "<Figure size 1200x500 with 5 Axes>"
      ]
     },
     "metadata": {},
     "output_type": "display_data"
    }
   ],
   "source": [
    "# Plot shifted images\n",
    "plt.figure(figsize=(12, 5))\n",
    "plt.subplot(231)\n",
    "plt.title(\"Original\")\n",
    "plt.imshow(img_data.reshape(28, 28), interpolation=\"nearest\", cmap=\"Greys\")\n",
    "plt.subplot(232)\n",
    "plt.title(\"Shifted up\")\n",
    "plt.imshow(up.reshape(28, 28),interpolation=\"nearest\", cmap=\"Greys\")\n",
    "plt.subplot(233)\n",
    "plt.title(\"Shifted down\")\n",
    "plt.imshow(down.reshape(28, 28),interpolation=\"nearest\", cmap=\"Greys\")\n",
    "plt.subplot(234)\n",
    "plt.title(\"Shifted left\")\n",
    "plt.imshow(left.reshape(28, 28),interpolation=\"nearest\", cmap=\"Greys\")\n",
    "plt.subplot(235)\n",
    "plt.title(\"Shifted right\")\n",
    "plt.imshow(right.reshape(28, 28),interpolation=\"nearest\", cmap=\"Greys\")\n",
    "\n",
    "# Adjust the layout\n",
    "plt.subplots_adjust(hspace=0.5)"
   ]
  },
  {
   "cell_type": "markdown",
   "metadata": {},
   "source": [
    "### Creating the Augmented Dataset"
   ]
  },
  {
   "cell_type": "code",
   "execution_count": 157,
   "metadata": {},
   "outputs": [],
   "source": [
    "# Convert the training datasets to lists to make modification easier\n",
    "X_train_shifted = list(X_train)\n",
    "y_train_shifted = list(y_train)\n",
    "\n",
    "# Define the number of pixels to shift by\n",
    "shift_px = 1\n",
    "\n",
    "# Loop through each image and label\n",
    "for img, label in zip(X_train, y_train):\n",
    "    # Call function to get shifted images\n",
    "    up, down, left, right = shift_image(img, shift_px)\n",
    "\n",
    "    # Append shifted images and their labels to the augmented datasets\n",
    "    X_train_shifted.extend([up, down, left, right])\n",
    "    y_train_shifted.extend([label, label, label, label])\n",
    "\n",
    "# Convert lists back to numpy arrays\n",
    "X_train_shifted = np.array(X_train_shifted)\n",
    "y_train_shifted = np.array(y_train_shifted)"
   ]
  },
  {
   "cell_type": "markdown",
   "metadata": {},
   "source": [
    "Check the shape of the training datasets."
   ]
  },
  {
   "cell_type": "code",
   "execution_count": 158,
   "metadata": {},
   "outputs": [
    {
     "data": {
      "text/plain": [
       "(56000, 784)"
      ]
     },
     "execution_count": 158,
     "metadata": {},
     "output_type": "execute_result"
    }
   ],
   "source": [
    "X_train.shape"
   ]
  },
  {
   "cell_type": "code",
   "execution_count": 159,
   "metadata": {},
   "outputs": [
    {
     "data": {
      "text/plain": [
       "(56000,)"
      ]
     },
     "execution_count": 159,
     "metadata": {},
     "output_type": "execute_result"
    }
   ],
   "source": [
    "y_train.shape"
   ]
  },
  {
   "cell_type": "code",
   "execution_count": 160,
   "metadata": {},
   "outputs": [
    {
     "data": {
      "text/plain": [
       "(280000, 784)"
      ]
     },
     "execution_count": 160,
     "metadata": {},
     "output_type": "execute_result"
    }
   ],
   "source": [
    "X_train_shifted.shape"
   ]
  },
  {
   "cell_type": "code",
   "execution_count": 161,
   "metadata": {},
   "outputs": [
    {
     "data": {
      "text/plain": [
       "(280000,)"
      ]
     },
     "execution_count": 161,
     "metadata": {},
     "output_type": "execute_result"
    }
   ],
   "source": [
    "y_train_shifted.shape"
   ]
  },
  {
   "cell_type": "markdown",
   "metadata": {},
   "source": [
    "Now we will shuffle the training set to shifted images aren't grouped together."
   ]
  },
  {
   "cell_type": "code",
   "execution_count": 162,
   "metadata": {},
   "outputs": [],
   "source": [
    "shuffle_index = np.random.permutation(len(X_train_shifted))\n",
    "X_train_shifted = X_train_shifted[shuffle_index]\n",
    "y_train_shifted = y_train_shifted[shuffle_index]"
   ]
  },
  {
   "cell_type": "markdown",
   "metadata": {},
   "source": [
    "## K-nearest Neighbor Model\n",
    "Start with simple KNN model as the baseline, using the unaugmented dataset."
   ]
  },
  {
   "cell_type": "markdown",
   "metadata": {},
   "source": [
    "### Model Creation"
   ]
  },
  {
   "cell_type": "code",
   "execution_count": 163,
   "metadata": {},
   "outputs": [
    {
     "data": {
      "text/plain": [
       "0.9700714285714286"
      ]
     },
     "execution_count": 163,
     "metadata": {},
     "output_type": "execute_result"
    }
   ],
   "source": [
    "knn_clf = KNeighborsClassifier()\n",
    "knn_clf.fit(X_train, y_train)\n",
    "knn_clf.score(X_test, y_test)"
   ]
  },
  {
   "cell_type": "markdown",
   "metadata": {},
   "source": [
    "Now we'll train another KNN model using the augmented dataset."
   ]
  },
  {
   "cell_type": "code",
   "execution_count": 164,
   "metadata": {},
   "outputs": [
    {
     "data": {
      "text/plain": [
       "0.9789285714285715"
      ]
     },
     "execution_count": 164,
     "metadata": {},
     "output_type": "execute_result"
    }
   ],
   "source": [
    "knn_clf_augmented = KNeighborsClassifier()\n",
    "knn_clf_augmented.fit(X_train_shifted, y_train_shifted)\n",
    "knn_clf_augmented.score(X_test, y_test)"
   ]
  },
  {
   "cell_type": "markdown",
   "metadata": {},
   "source": [
    "We see the accuracy has improved 0.9% by creating and training on an augmented dataset."
   ]
  }
 ],
 "metadata": {
  "kernelspec": {
   "display_name": "Python 3",
   "language": "python",
   "name": "python3"
  },
  "language_info": {
   "codemirror_mode": {
    "name": "ipython",
    "version": 3
   },
   "file_extension": ".py",
   "mimetype": "text/x-python",
   "name": "python",
   "nbconvert_exporter": "python",
   "pygments_lexer": "ipython3",
   "version": "3.12.2"
  }
 },
 "nbformat": 4,
 "nbformat_minor": 2
}
