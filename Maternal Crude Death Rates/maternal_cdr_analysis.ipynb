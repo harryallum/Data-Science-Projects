{
 "cells": [
  {
   "cell_type": "markdown",
   "metadata": {},
   "source": [
    "## Investigating Maternal Health: Crude Death Rates in South America\n",
    "\n",
    "### Introduction\n",
    "Maternal health is a critical indicator of the overall well-being of a population, reflecting the quality of healthcare services and societal conditions. In this analysis, we explore the maternal health landscape of South America, quantifing crude death rates (CDRs) from maternal conditions. Using data from WHO Mortality Database and the UN WPP, we seek to gain insights into the trends and patterns of maternal mortality in the region.\n",
    "\n",
    "### Assumptions\n",
    "1. **Representativeness:** We assume that the available data adequately represents the female population of South America for each respective year.\n",
    "2. **Accuracy of Data:** We assume the accuracy and reliability of the mortality and population data provided by the WHO Mortality Database and the UN WPP.\n",
    "3. **Consistency in Reporting:** We assume consistent reporting practices across countries in South America regarding maternal deaths and population statistics.\n",
    "\n",
    "### Results and Conclusion\n",
    "Some values are stated as N/A. This is due to the represented population in the data relating to the number of deaths being below 80% of the population estimates for the respective country and year.\n",
    "\n",
    "Crude death rate from maternal conditions per 100,000 females in South America for specific for years of interest:\n",
    "- **1970:** N/A\n",
    "- **1979:** N/A\n",
    "- **1986:** 2.60\n",
    "- **2011:** 1.71\n",
    "- **2017:** 1.56\n",
    "\n",
    "These findings suggest significant progress has been made in reducing maternal mortality, but that further progress needs to be made. The insights from this analysis could guide policymakers and healthcare professionals in implementing targeted interventions to improve maternal health outcomes in the region. However, it's essential to acknowledge the limitations of our analysis, including potential data gaps and the need for ongoing monitoring and evaluation to ensure continued progress in maternal healthcare provision.\n",
    "\n",
    "**Note**: Age standardisation has not been used for this analysis, as it was not requested by the project manager. Using age-standardised values is a recommended future improvement to allow better comparison between different countries and over time."
   ]
  },
  {
   "cell_type": "code",
   "execution_count": 2,
   "metadata": {},
   "outputs": [],
   "source": [
    "import pandas as pd\n",
    "import numpy as np\n",
    "import seaborn as sns\n",
    "import matplotlib.pyplot as plt"
   ]
  },
  {
   "cell_type": "markdown",
   "metadata": {},
   "source": [
    "#### Import Data"
   ]
  },
  {
   "cell_type": "code",
   "execution_count": 3,
   "metadata": {},
   "outputs": [],
   "source": [
    "# Read continent data\n",
    "continents_cols = ['Entity', 'Code', 'Continent']\n",
    "continents_df = pd.read_csv('data/continents-according-to-our-world-in-data.csv',usecols=continents_cols)\n",
    "\n",
    "# Read population data\n",
    "population_cols = {'ISO3_code': str, 'Time': int, 'PopFemale': float}\n",
    "populaton_df = pd.read_csv('data/WPP2022_TotalPopulationBySexJuly1.csv', usecols=population_cols.keys(), dtype=population_cols)\n",
    "\n",
    "# Read deaths data\n",
    "deaths_cols = ['Country Code','Year','Sex','Age Group','Number']\n",
    "deaths_df = pd.read_csv('data/WHOMortalityDatabase_Deaths.csv', usecols=deaths_cols, index_col=False)"
   ]
  },
  {
   "cell_type": "markdown",
   "metadata": {},
   "source": [
    "#### Clean DataFrame Headers"
   ]
  },
  {
   "cell_type": "code",
   "execution_count": 4,
   "metadata": {},
   "outputs": [],
   "source": [
    "# Rename continent data columns\n",
    "continents_colnames = {'Entity': 'Country',\n",
    "                       'Code': 'ISO3_code',\n",
    "                       }\n",
    "continents_df.rename(columns=continents_colnames, inplace=True)    \n",
    "\n",
    "# Rename population data columns\n",
    "population_colnames = {'Time': 'Year',\n",
    "                       'PopFemale': 'Female population',\n",
    "                       }\n",
    "populaton_df.rename(columns=population_colnames,inplace=True)\n",
    "\n",
    "# Rename death data columns\n",
    "deaths_colnames = {'Country Code': 'ISO3_code',\n",
    "                   'Number': 'Number of deaths'}\n",
    "\n",
    "deaths_df.rename(columns=deaths_colnames, inplace=True)"
   ]
  },
  {
   "cell_type": "markdown",
   "metadata": {},
   "source": [
    "#### Clean population data\n",
    "\n",
    "We will use the ISO3 country code to indentify countries when later merging DataFrames. Parts of the population data do not include an ISO3 code as they represent regions or continents, so we will first drop this data as we are only interested in country specific populations."
   ]
  },
  {
   "cell_type": "code",
   "execution_count": 5,
   "metadata": {},
   "outputs": [
    {
     "data": {
      "text/plain": [
       "252957"
      ]
     },
     "execution_count": 5,
     "metadata": {},
     "output_type": "execute_result"
    }
   ],
   "source": [
    "# Check how many rows do not have an ISO 3 code for reference\n",
    "populaton_df['ISO3_code'].isna().sum()"
   ]
  },
  {
   "cell_type": "code",
   "execution_count": 6,
   "metadata": {},
   "outputs": [],
   "source": [
    "# Drop rows without an ISO 3 code\n",
    "countries_population_df = populaton_df.dropna(subset='ISO3_code')"
   ]
  },
  {
   "cell_type": "markdown",
   "metadata": {},
   "source": [
    "#### Clean maternal deaths data\n",
    "\n",
    "Filter to only rows for 'All' age group and Sex = Female."
   ]
  },
  {
   "cell_type": "code",
   "execution_count": 7,
   "metadata": {},
   "outputs": [],
   "source": [
    "# Create mask to filter by female and 'All' age group\n",
    "deaths_age_sex_mask = (deaths_df['Age Group'] == '[All]') & (deaths_df['Sex'] == 'Female')\n",
    "\n",
    "# Apply the mask\n",
    "all_age_deaths_df = deaths_df[deaths_age_sex_mask]"
   ]
  },
  {
   "cell_type": "code",
   "execution_count": 8,
   "metadata": {},
   "outputs": [],
   "source": [
    "# Drop the 'Age Group' and 'Sex' columns as we are now only dealing with all ages and females\n",
    "number_of_deaths_df = all_age_deaths_df.drop(['Age Group', 'Sex'], axis=1).reset_index(drop=True)"
   ]
  },
  {
   "cell_type": "markdown",
   "metadata": {},
   "source": [
    "#### Merge Population and Continent DataFrames\n",
    "We need to define which continents countries belong to, so we will merge the population and continents definition DataFrames."
   ]
  },
  {
   "cell_type": "code",
   "execution_count": 9,
   "metadata": {},
   "outputs": [],
   "source": [
    "# Merge dataframes on the ISO3 code columns\n",
    "population_continents_df = pd.merge(left=countries_population_df, right=continents_df, how='left', on='ISO3_code')"
   ]
  },
  {
   "cell_type": "markdown",
   "metadata": {},
   "source": [
    "#### Merge the population DataFrame (including continents) with maternal deaths DataFrame\n",
    "We will merge these using both the ISO 3 code and the year to add the number of deaths for each country and each year."
   ]
  },
  {
   "cell_type": "code",
   "execution_count": 10,
   "metadata": {},
   "outputs": [],
   "source": [
    "# Merge dataframes on both ISO 3 code and Year\n",
    "population_and_deaths_df = pd.merge(left=population_continents_df, right=number_of_deaths_df, how='left', on=['ISO3_code', 'Year'])"
   ]
  },
  {
   "cell_type": "code",
   "execution_count": 11,
   "metadata": {},
   "outputs": [
    {
     "data": {
      "text/html": [
       "<div>\n",
       "<style scoped>\n",
       "    .dataframe tbody tr th:only-of-type {\n",
       "        vertical-align: middle;\n",
       "    }\n",
       "\n",
       "    .dataframe tbody tr th {\n",
       "        vertical-align: top;\n",
       "    }\n",
       "\n",
       "    .dataframe thead th {\n",
       "        text-align: right;\n",
       "    }\n",
       "</style>\n",
       "<table border=\"1\" class=\"dataframe\">\n",
       "  <thead>\n",
       "    <tr style=\"text-align: right;\">\n",
       "      <th></th>\n",
       "      <th>ISO3_code</th>\n",
       "      <th>Year</th>\n",
       "      <th>Female population</th>\n",
       "      <th>Country</th>\n",
       "      <th>Continent</th>\n",
       "      <th>Number of deaths</th>\n",
       "    </tr>\n",
       "  </thead>\n",
       "  <tbody>\n",
       "    <tr>\n",
       "      <th>0</th>\n",
       "      <td>BDI</td>\n",
       "      <td>1950</td>\n",
       "      <td>1174.340</td>\n",
       "      <td>Burundi</td>\n",
       "      <td>Africa</td>\n",
       "      <td>NaN</td>\n",
       "    </tr>\n",
       "    <tr>\n",
       "      <th>1</th>\n",
       "      <td>BDI</td>\n",
       "      <td>1951</td>\n",
       "      <td>1198.705</td>\n",
       "      <td>Burundi</td>\n",
       "      <td>Africa</td>\n",
       "      <td>NaN</td>\n",
       "    </tr>\n",
       "    <tr>\n",
       "      <th>2</th>\n",
       "      <td>BDI</td>\n",
       "      <td>1952</td>\n",
       "      <td>1222.726</td>\n",
       "      <td>Burundi</td>\n",
       "      <td>Africa</td>\n",
       "      <td>NaN</td>\n",
       "    </tr>\n",
       "    <tr>\n",
       "      <th>3</th>\n",
       "      <td>BDI</td>\n",
       "      <td>1953</td>\n",
       "      <td>1246.363</td>\n",
       "      <td>Burundi</td>\n",
       "      <td>Africa</td>\n",
       "      <td>NaN</td>\n",
       "    </tr>\n",
       "    <tr>\n",
       "      <th>4</th>\n",
       "      <td>BDI</td>\n",
       "      <td>1954</td>\n",
       "      <td>1270.051</td>\n",
       "      <td>Burundi</td>\n",
       "      <td>Africa</td>\n",
       "      <td>NaN</td>\n",
       "    </tr>\n",
       "  </tbody>\n",
       "</table>\n",
       "</div>"
      ],
      "text/plain": [
       "  ISO3_code  Year  Female population  Country Continent  Number of deaths\n",
       "0       BDI  1950           1174.340  Burundi    Africa               NaN\n",
       "1       BDI  1951           1198.705  Burundi    Africa               NaN\n",
       "2       BDI  1952           1222.726  Burundi    Africa               NaN\n",
       "3       BDI  1953           1246.363  Burundi    Africa               NaN\n",
       "4       BDI  1954           1270.051  Burundi    Africa               NaN"
      ]
     },
     "execution_count": 11,
     "metadata": {},
     "output_type": "execute_result"
    }
   ],
   "source": [
    "# Check the merged dataframe\n",
    "population_and_deaths_df.head()"
   ]
  },
  {
   "cell_type": "markdown",
   "metadata": {},
   "source": [
    "#### Filter the population/death DataFrame\n",
    "Filter to only countries within South America, and year less than or equal to 2022 (as this is the most recent year where data for maternal deaths is available)."
   ]
  },
  {
   "cell_type": "code",
   "execution_count": 12,
   "metadata": {},
   "outputs": [],
   "source": [
    "# Create a mask to filter the data\n",
    "continent_and_year_mask = (population_and_deaths_df['Continent']=='South America') & (population_and_deaths_df['Year'] <= 2022)\n",
    "\n",
    "# Apply the mask and reset index\n",
    "south_america_pop_df = population_and_deaths_df[continent_and_year_mask].reset_index(drop=True)"
   ]
  },
  {
   "cell_type": "markdown",
   "metadata": {},
   "source": [
    "#### Discrepencies in population data and continents definition\n",
    "\n",
    "It can be seen we only have population data for 14 countries, despite the continents definition including 15 countries. The population data provides no population values for South Georgia and the South Sandwich Islands. From researching, it appears the population of South Georgia and the South Sandwich Islands is negligable, and so we will proceed without population values for this country."
   ]
  },
  {
   "cell_type": "code",
   "execution_count": 13,
   "metadata": {},
   "outputs": [
    {
     "name": "stdout",
     "output_type": "stream",
     "text": [
      "Number of countries in population data for South America: 14\n",
      "Number of countries in continents definitions for Sout America: 15\n"
     ]
    }
   ],
   "source": [
    "# Check the number of countries we have population data for in South America\n",
    "n_countries_pop_data = south_america_pop_df['Country'].nunique()\n",
    "\n",
    "# Check the number of countries we have in the continents definition for South America\n",
    "n_countries_continent_data = continents_df[continents_df['Continent']=='South America']['Country'].nunique()\n",
    "\n",
    "print(f'Number of countries in population data for South America: {n_countries_pop_data}')\n",
    "print(f'Number of countries in continents definitions for Sout America: {n_countries_continent_data}')"
   ]
  },
  {
   "cell_type": "markdown",
   "metadata": {},
   "source": [
    "#### Calculate represented population for each country and year\n",
    "A new column will be used to determine the aggregated represented population values for comparison with the true population. We first convert the population values to absolute values (from thousands). We then create a new column 'Represented population'. This is initially set to 0, and then updated to the countries population if maternal death data is available for that year. Else, it remains as 0. "
   ]
  },
  {
   "cell_type": "code",
   "execution_count": 14,
   "metadata": {},
   "outputs": [],
   "source": [
    "# Convert population values to absolute values (from thousands)\n",
    "south_america_pop_df['Female population'] *= 1000\n",
    "\n",
    "# Create a new column 'represented_population' and set it to 0 initially\n",
    "south_america_pop_df['Represented population'] = 0.0\n",
    "\n",
    "# Set the values of 'represented_population' where 'Number of deaths' is not NaN\n",
    "south_america_pop_df.loc[~south_america_pop_df['Number of deaths'].isna(), 'Represented population'] = south_america_pop_df['Female population']"
   ]
  },
  {
   "cell_type": "markdown",
   "metadata": {},
   "source": [
    "#### Aggregate by year to get values at continent level\n",
    "We will now aggregate the data to combine the data all countries within South America by year."
   ]
  },
  {
   "cell_type": "code",
   "execution_count": 15,
   "metadata": {},
   "outputs": [],
   "source": [
    "# Group by 'Year' and sum the population and death values\n",
    "agg_pop_and_deaths_df = (south_america_pop_df\n",
    "              .groupby('Year')\n",
    "              .agg({'Female population': 'sum',\n",
    "                    'Number of deaths': 'sum',\n",
    "                    'Represented population': 'sum'})\n",
    "                .reset_index())"
   ]
  },
  {
   "cell_type": "code",
   "execution_count": 16,
   "metadata": {},
   "outputs": [
    {
     "data": {
      "text/html": [
       "<div>\n",
       "<style scoped>\n",
       "    .dataframe tbody tr th:only-of-type {\n",
       "        vertical-align: middle;\n",
       "    }\n",
       "\n",
       "    .dataframe tbody tr th {\n",
       "        vertical-align: top;\n",
       "    }\n",
       "\n",
       "    .dataframe thead th {\n",
       "        text-align: right;\n",
       "    }\n",
       "</style>\n",
       "<table border=\"1\" class=\"dataframe\">\n",
       "  <thead>\n",
       "    <tr style=\"text-align: right;\">\n",
       "      <th></th>\n",
       "      <th>Year</th>\n",
       "      <th>Female population</th>\n",
       "      <th>Number of deaths</th>\n",
       "      <th>Represented population</th>\n",
       "    </tr>\n",
       "  </thead>\n",
       "  <tbody>\n",
       "    <tr>\n",
       "      <th>68</th>\n",
       "      <td>2018</td>\n",
       "      <td>2.149611e+08</td>\n",
       "      <td>3309.0</td>\n",
       "      <td>193727159.0</td>\n",
       "    </tr>\n",
       "    <tr>\n",
       "      <th>69</th>\n",
       "      <td>2019</td>\n",
       "      <td>2.168171e+08</td>\n",
       "      <td>3091.0</td>\n",
       "      <td>195904857.0</td>\n",
       "    </tr>\n",
       "    <tr>\n",
       "      <th>70</th>\n",
       "      <td>2020</td>\n",
       "      <td>2.185154e+08</td>\n",
       "      <td>3676.0</td>\n",
       "      <td>197334882.0</td>\n",
       "    </tr>\n",
       "    <tr>\n",
       "      <th>71</th>\n",
       "      <td>2021</td>\n",
       "      <td>2.199869e+08</td>\n",
       "      <td>1656.0</td>\n",
       "      <td>71030859.0</td>\n",
       "    </tr>\n",
       "    <tr>\n",
       "      <th>72</th>\n",
       "      <td>2022</td>\n",
       "      <td>3.321265e+09</td>\n",
       "      <td>0.0</td>\n",
       "      <td>0.0</td>\n",
       "    </tr>\n",
       "  </tbody>\n",
       "</table>\n",
       "</div>"
      ],
      "text/plain": [
       "    Year  Female population  Number of deaths  Represented population\n",
       "68  2018       2.149611e+08            3309.0             193727159.0\n",
       "69  2019       2.168171e+08            3091.0             195904857.0\n",
       "70  2020       2.185154e+08            3676.0             197334882.0\n",
       "71  2021       2.199869e+08            1656.0              71030859.0\n",
       "72  2022       3.321265e+09               0.0                     0.0"
      ]
     },
     "execution_count": 16,
     "metadata": {},
     "output_type": "execute_result"
    }
   ],
   "source": [
    "# Check the df\n",
    "agg_pop_and_deaths_df.tail()"
   ]
  },
  {
   "cell_type": "markdown",
   "metadata": {},
   "source": [
    "#### Calculate the crude death rate (CDR) per 100,000 females\n",
    "CDR is calculted for each year. Then we check if the represented population >= 80% of the true population. If false, update this value to NaN\n",
    "\n",
    "$$\n",
    "CDR = \\frac{{\\sum_{i} \\text{Number of deaths}_{i}}}{{\\sum_{i} \\text{Total female population}_{i}}} \\times 100,000\n",
    "$$"
   ]
  },
  {
   "cell_type": "code",
   "execution_count": 17,
   "metadata": {},
   "outputs": [],
   "source": [
    "# Calculate the crude death rate per 100,000 people for each year and round to 2.d.p\n",
    "agg_pop_and_deaths_df['Crude death rate'] = (\n",
    "    agg_pop_and_deaths_df['Number of deaths'] / agg_pop_and_deaths_df['Represented population'] * 100000\n",
    ").round(2)\n",
    "\n",
    "# Set crude death rate to NaN for years where represented population is less than 80% of true population\n",
    "agg_pop_and_deaths_df.loc[agg_pop_and_deaths_df['Represented population'] < 0.8 * agg_pop_and_deaths_df['Female population'], 'Crude death rate'] = np.nan"
   ]
  },
  {
   "cell_type": "code",
   "execution_count": 18,
   "metadata": {},
   "outputs": [
    {
     "data": {
      "text/html": [
       "<div>\n",
       "<style scoped>\n",
       "    .dataframe tbody tr th:only-of-type {\n",
       "        vertical-align: middle;\n",
       "    }\n",
       "\n",
       "    .dataframe tbody tr th {\n",
       "        vertical-align: top;\n",
       "    }\n",
       "\n",
       "    .dataframe thead th {\n",
       "        text-align: right;\n",
       "    }\n",
       "</style>\n",
       "<table border=\"1\" class=\"dataframe\">\n",
       "  <thead>\n",
       "    <tr style=\"text-align: right;\">\n",
       "      <th></th>\n",
       "      <th>Year</th>\n",
       "      <th>Female population</th>\n",
       "      <th>Number of deaths</th>\n",
       "      <th>Represented population</th>\n",
       "      <th>Crude death rate</th>\n",
       "    </tr>\n",
       "  </thead>\n",
       "  <tbody>\n",
       "    <tr>\n",
       "      <th>68</th>\n",
       "      <td>2018</td>\n",
       "      <td>2.149611e+08</td>\n",
       "      <td>3309.0</td>\n",
       "      <td>193727159.0</td>\n",
       "      <td>1.71</td>\n",
       "    </tr>\n",
       "    <tr>\n",
       "      <th>69</th>\n",
       "      <td>2019</td>\n",
       "      <td>2.168171e+08</td>\n",
       "      <td>3091.0</td>\n",
       "      <td>195904857.0</td>\n",
       "      <td>1.58</td>\n",
       "    </tr>\n",
       "    <tr>\n",
       "      <th>70</th>\n",
       "      <td>2020</td>\n",
       "      <td>2.185154e+08</td>\n",
       "      <td>3676.0</td>\n",
       "      <td>197334882.0</td>\n",
       "      <td>1.86</td>\n",
       "    </tr>\n",
       "    <tr>\n",
       "      <th>71</th>\n",
       "      <td>2021</td>\n",
       "      <td>2.199869e+08</td>\n",
       "      <td>1656.0</td>\n",
       "      <td>71030859.0</td>\n",
       "      <td>NaN</td>\n",
       "    </tr>\n",
       "    <tr>\n",
       "      <th>72</th>\n",
       "      <td>2022</td>\n",
       "      <td>3.321265e+09</td>\n",
       "      <td>0.0</td>\n",
       "      <td>0.0</td>\n",
       "      <td>NaN</td>\n",
       "    </tr>\n",
       "  </tbody>\n",
       "</table>\n",
       "</div>"
      ],
      "text/plain": [
       "    Year  Female population  Number of deaths  Represented population  \\\n",
       "68  2018       2.149611e+08            3309.0             193727159.0   \n",
       "69  2019       2.168171e+08            3091.0             195904857.0   \n",
       "70  2020       2.185154e+08            3676.0             197334882.0   \n",
       "71  2021       2.199869e+08            1656.0              71030859.0   \n",
       "72  2022       3.321265e+09               0.0                     0.0   \n",
       "\n",
       "    Crude death rate  \n",
       "68              1.71  \n",
       "69              1.58  \n",
       "70              1.86  \n",
       "71               NaN  \n",
       "72               NaN  "
      ]
     },
     "execution_count": 18,
     "metadata": {},
     "output_type": "execute_result"
    }
   ],
   "source": [
    "# Check the df\n",
    "agg_pop_and_deaths_df.tail(5)"
   ]
  },
  {
   "cell_type": "markdown",
   "metadata": {},
   "source": [
    "#### Results\n",
    "Retrieve CDR values for specific years of interest."
   ]
  },
  {
   "cell_type": "code",
   "execution_count": 19,
   "metadata": {},
   "outputs": [],
   "source": [
    "cdr_1970 = agg_pop_and_deaths_df[agg_pop_and_deaths_df['Year'] == 1970]['Crude death rate'].values[0]\n",
    "cdr_1979 = agg_pop_and_deaths_df[agg_pop_and_deaths_df['Year'] == 1979]['Crude death rate'].values[0]\n",
    "cdr_1986 = agg_pop_and_deaths_df[agg_pop_and_deaths_df['Year'] == 1986]['Crude death rate'].values[0]\n",
    "cdr_2011 = agg_pop_and_deaths_df[agg_pop_and_deaths_df['Year'] == 2011]['Crude death rate'].values[0]\n",
    "cdr_2017 = agg_pop_and_deaths_df[agg_pop_and_deaths_df['Year'] == 2017]['Crude death rate'].values[0]"
   ]
  },
  {
   "cell_type": "code",
   "execution_count": 20,
   "metadata": {},
   "outputs": [
    {
     "name": "stdout",
     "output_type": "stream",
     "text": [
      "Crude death rates per 100,000 females for years of interest:\n",
      "1970: nan\n",
      "1979: nan\n",
      "1986: 2.93\n",
      "2011: 1.78\n",
      "2017: 1.73\n"
     ]
    }
   ],
   "source": [
    "print('Crude death rates per 100,000 females for years of interest:')\n",
    "print(f'1970: {cdr_1970}')\n",
    "print(f'1979: {cdr_1979}')\n",
    "print(f'1986: {cdr_1986}')\n",
    "print(f'2011: {cdr_2011}')\n",
    "print(f'2017: {cdr_2017}')"
   ]
  },
  {
   "cell_type": "markdown",
   "metadata": {},
   "source": [
    "#### Visulations"
   ]
  },
  {
   "cell_type": "code",
   "execution_count": 21,
   "metadata": {},
   "outputs": [
    {
     "data": {
      "image/png": "[encoded data removed]",
      "text/plain": [
       "<Figure size 640x480 with 1 Axes>"
      ]
     },
     "metadata": {},
     "output_type": "display_data"
    }
   ],
   "source": [
    "# Plot crude death rate by year\n",
    "sns.lineplot(data=agg_pop_and_deaths_df, x='Year', y='Crude death rate', marker='o')\n",
    "plt.title('Maternal conditions crude death rate over the years, South America')\n",
    "plt.xlabel('Year')\n",
    "plt.ylabel('Crude Death Rate')\n",
    "plt.grid(True)\n",
    "plt.show()"
   ]
  },
  {
   "cell_type": "markdown",
   "metadata": {},
   "source": [
    "### References\n",
    "\n",
    "**Maternal mortality data** WHO Mortality Database: https://platform.who.int/mortality/themes/theme-details/topics/topic-details/MDB/maternal-conditions\n",
    "\n",
    "**Population estimates:** United Nations World Population Prospects (2022): https://population.un.org/wpp/Download/Standard/MostUsed/\n",
    "\n",
    "**Continent definitions:** Continents according to Our World in Data: https://ourworldindata.org/grapher/continents-according-to-our-world-in-data"
   ]
  }
 ],
 "metadata": {
  "kernelspec": {
   "display_name": "Python 3",
   "language": "python",
   "name": "python3"
  },
  "language_info": {
   "codemirror_mode": {
    "name": "ipython",
    "version": 3
   },
   "file_extension": ".py",
   "mimetype": "text/x-python",
   "name": "python",
   "nbconvert_exporter": "python",
   "pygments_lexer": "ipython3",
   "version": "3.12.2"
  }
 },
 "nbformat": 4,
 "nbformat_minor": 2
}
